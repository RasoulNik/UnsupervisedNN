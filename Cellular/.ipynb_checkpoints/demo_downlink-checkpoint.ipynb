{
 "cells": [
  {
   "cell_type": "code",
   "execution_count": 1,
   "metadata": {},
   "outputs": [
    {
     "name": "stdout",
     "output_type": "stream",
     "text": [
      "Tensorflow version:  2.2.0\n",
      "Number of GPUs available : 4\n",
      "Used GPU: 0. Memory growth: True\n"
     ]
    }
   ],
   "source": [
    "# -*- coding: utf-8 -*-\n",
    "\"\"\"\n",
    "Created on Sat Mar 28 15:36:42 2020\n",
    "\n",
    "@author: nikbakht\n",
    "\"\"\"\n",
    "#---------------------------------\n",
    "import tensorflow as tf\n",
    "import socket\n",
    "host=socket.gethostname()\n",
    "if host=='N-20HEPF10AVE2':\n",
    "    pass\n",
    "else:\n",
    "    num_GPU = 0# GPU  to use, can be 0, 2\n",
    "    mem_growth = True\n",
    "    print('Tensorflow version: ', tf.__version__)\n",
    "    gpus = tf.config.experimental.list_physical_devices(\"GPU\")\n",
    "    print('Number of GPUs available :', len(gpus))\n",
    "    tf.config.experimental.set_visible_devices(gpus[num_GPU], 'GPU')\n",
    "    tf.config.experimental.set_memory_growth(gpus[num_GPU], mem_growth)\n",
    "    print('Used GPU: {}. Memory growth: {}'.format(num_GPU, mem_growth))\n",
    "    \n",
    "import numpy as np\n",
    "import time \n",
    "# import matplotlib.pyplot as plt\n",
    "import scipy.io as sio\n",
    "#import h5py\n",
    "#import pandas as pd\n",
    "from datetime import datetime\n",
    "# from Data_conv import Data\n",
    "from Data0 import Data\n",
    "from Plot_results_downlink import Plot\n",
    "\n",
    "# from UNNdebug import UNN\n",
    "from UNN import UNN\n",
    "from Loss_downlink import Loss\n",
    "import pickle"
   ]
  },
  {
   "cell_type": "code",
   "execution_count": 2,
   "metadata": {},
   "outputs": [],
   "source": [
    "#------------------------------------------\n",
    "# tf.keras.backend.set_floatx('float64')\n",
    "#train_iterations = 100\n",
    "batch_size =50\n",
    "# train_per_database=100\n",
    "# database_size=batch_size*train_per_database\n",
    "EPOCHS =int(100e3)\n",
    "Nuser = 30\n",
    "Nap = 30\n",
    "#Lambda=.001\n",
    "#alpha=1\n",
    "Id_save='2'\n",
    "save_model=1\n",
    "P_over_noise=120; # dB\n",
    "cost_type='maxmin'\n",
    "# cost_type='maxproduct'"
   ]
  },
  {
   "cell_type": "code",
   "execution_count": 3,
   "metadata": {},
   "outputs": [
    {
     "name": "stdout",
     "output_type": "stream",
     "text": [
      "Cost is inf or nan\n",
      "Test cost is  nan  min_SINR is  nan\n"
     ]
    }
   ],
   "source": [
    "def load_model(model, fn):\n",
    "    with open(fn, 'rb') as f:\n",
    "        W = pickle.load(f)\n",
    "    model.set_weights(W)\n",
    "    \n",
    "load=1\n",
    "data=Data(Nuser)\n",
    "xin,G_batch,p_frac=data(batch_size,.7)\n",
    "# xin=np.reshape(G_batch,[batch_size,-1])\n",
    "SNR = np.power(10,P_over_noise/10)*G_batch\n",
    "xin=np.reshape(np.log(SNR),[SNR.shape[0],-1])\n",
    "# xin=np.log(np.diagonal(SNR,axis1=1,axis2=2))\n",
    "# xin = tf.linalg.diag_part(SNR)\n",
    "\n",
    "if load:\n",
    "    unn=UNN(Nap,Nuser,cost_type) \n",
    "    cost,SIR,min_SIR= unn(xin,SNR)\n",
    "    unn.Xin_av=0\n",
    "    unn.Xin_std=1\n",
    "    load_model(unn, '/notebooks/test/Cellular/models/maxminUNN_20200601-154529.mod')\n",
    "  \n",
    "# xin=(xin-unn.Xin_av)/unn.Xin_std\n",
    "xin=(xin-unn.Xin_av)/unn.Xin_std\n",
    "cost,SINR,min_SINR = unn.Loss(SNR,unn.Network(xin))\n",
    "print('Test cost is ',cost.numpy(),' min_SINR is ',min_SINR.numpy())\n",
    "RP=Plot()\n",
    "SIR_NN=RP.sinr_av(SNR,unn.Network(xin),Nap,Nuser)\n",
    "SIR_frac=RP.sinr_av(SNR,tf.math.log(p_frac),Nap,Nuser)\n"
   ]
  },
  {
   "cell_type": "code",
   "execution_count": 4,
   "metadata": {},
   "outputs": [
    {
     "name": "stderr",
     "output_type": "stream",
     "text": [
      "/notebooks/test/Cellular/Plot_results_downlink.py:23: RuntimeWarning: divide by zero encountered in log10\n",
      "  qe, pe =self.ecdf(10*np.log10(x[i].flatten()))\n"
     ]
    },
    {
     "data": {
      "image/png": "[encoded data removed]",
      "text/plain": [
       "<Figure size 432x288 with 1 Axes>"
      ]
     },
     "metadata": {
      "needs_background": "light"
     },
     "output_type": "display_data"
    }
   ],
   "source": [
    "plot=Plot()\n",
    "sir_vec=[SIR_NN.numpy(),SIR_frac.numpy()]\n",
    "plot.cdfplot(sir_vec)"
   ]
  },
  {
   "cell_type": "code",
   "execution_count": 5,
   "metadata": {},
   "outputs": [
    {
     "data": {
      "text/plain": [
       "50"
      ]
     },
     "execution_count": 5,
     "metadata": {},
     "output_type": "execute_result"
    }
   ],
   "source": [
    "batch_size"
   ]
  },
  {
   "cell_type": "code",
   "execution_count": null,
   "metadata": {},
   "outputs": [],
   "source": []
  }
 ],
 "metadata": {
  "kernelspec": {
   "display_name": "Python 3",
   "language": "python",
   "name": "python3"
  },
  "language_info": {
   "codemirror_mode": {
    "name": "ipython",
    "version": 3
   },
   "file_extension": ".py",
   "mimetype": "text/x-python",
   "name": "python",
   "nbconvert_exporter": "python",
   "pygments_lexer": "ipython3",
   "version": "3.6.9"
  }
 },
 "nbformat": 4,
 "nbformat_minor": 4
}
