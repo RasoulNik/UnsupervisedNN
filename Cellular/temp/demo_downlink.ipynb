{
 "cells": [
  {
   "cell_type": "code",
   "execution_count": 1,
   "metadata": {},
   "outputs": [
    {
     "name": "stdout",
     "output_type": "stream",
     "text": [
      "done\n"
     ]
    }
   ],
   "source": [
    "import tensorflow as tf\n",
    "#import socket\n",
    "GPU_mode = 0\n",
    "if GPU_mode:\n",
    "    num_GPU =0# GPU  to use, can be 0, 2\n",
    "    mem_growth = True\n",
    "    print('Tensorflow version: ', tf.__version__)\n",
    "    gpus = tf.config.experimental.list_physical_devices(\"GPU\")\n",
    "    print('Number of GPUs available :', len(gpus))\n",
    "    tf.config.experimental.set_visible_devices(gpus[num_GPU], 'GPU')\n",
    "    tf.config.experimental.set_memory_growth(gpus[num_GPU], mem_growth)\n",
    "    print('Used GPU: {}. Memory growth: {}'.format(num_GPU, mem_growth))\n",
    "\n",
    "    \n",
    "import numpy as np\n",
    "import time \n",
    "import os\n",
    "# import matplotlib.pyplot as plt\n",
    "import scipy.io as sio\n",
    "import pickle\n",
    "#import h5py\n",
    "#import pandas as pd\n",
    "from datetime import datetime\n",
    "# from Data_conv import Data\n",
    "from Data0 import Data\n",
    "from Plot_results_downlink import Plot\n",
    "\n",
    "# from UNNdebug import UNN\n",
    "from UNN_downlink import UNN\n",
    "from Loss_downlink import Loss\n",
    "print('done')"
   ]
  },
  {
   "cell_type": "code",
   "execution_count": 2,
   "metadata": {},
   "outputs": [],
   "source": [
    "#------------------------------------------\n",
    "# tf.keras.backend.set_floatx('float64')\n",
    "#train_iterations = 100\n",
    "batch_size =50\n",
    "# train_per_database=100\n",
    "# database_size=batch_size*train_per_database\n",
    "EPOCHS =int(100e3)\n",
    "Nuser = 30\n",
    "Nap = 30\n",
    "#Lambda=.001\n",
    "#alpha=1\n",
    "Id_save='2'\n",
    "P_over_noise=120; # dB\n",
    "# cost_type='maxmin'\n",
    "cost_type='maxproduct'"
   ]
  },
  {
   "cell_type": "code",
   "execution_count": 8,
   "metadata": {},
   "outputs": [
    {
     "name": "stdout",
     "output_type": "stream",
     "text": [
      "Test cost is  -0.321715  min_SINR is  -1.3419185\n"
     ]
    }
   ],
   "source": [
    "def load_model(model, fn):\n",
    "    with open(fn, 'rb') as f:\n",
    "        W = pickle.load(f)\n",
    "        # model = pickle.load(f)\n",
    "    model.set_weights(W[0])\n",
    "    model.Xin_av = W[1]\n",
    "    model.Xin_std = W[2]\n",
    "    \n",
    "data=Data(Nuser)\n",
    "G_batch,p_frac=data(batch_size,.7)\n",
    "# xin=np.reshape(G_batch,[batch_size,-1])\n",
    "SNR = np.power(10,P_over_noise/10)*G_batch\n",
    "xin=np.reshape(np.log(SNR),[SNR.shape[0],-1])\n",
    "# xin=np.log(np.diagonal(SNR,axis1=1,axis2=2))\n",
    "# xin = tf.linalg.diag_part(SNR)\n",
    "\n",
    "unn=UNN(Nap,Nuser,cost_type) \n",
    "cost,SIR,min_SIR= unn(xin,SNR)\n",
    "# unn.Xin_std=1\n",
    "current_dir = os.getcwd()\n",
    "path = os.path.join(current_dir, 'models', cost_type+'UNN.mod')\n",
    "load_model(unn, path)\n",
    "  \n",
    "# G_batch, p_frac = data(2 * batch_size, .5)\n",
    "# xin=np.reshape(G_batch,[batch_size,-1])\n",
    "SNR = np.power(10, P_over_noise / 10) * G_batch\n",
    "xin = np.reshape(np.log(SNR), [SNR.shape[0], -1])\n",
    "# xin = tf.linalg.diag_part(SNR)\n",
    "xin=(xin-unn.Xin_av)/unn.Xin_std\n",
    "cost,SINR,min_SINR = unn.Loss(SNR,unn.Network(xin))\n",
    "print('Test cost is ',cost.numpy(),' min_SINR is ',min_SINR.numpy())"
   ]
  },
  {
   "cell_type": "code",
   "execution_count": 7,
   "metadata": {},
   "outputs": [
    {
     "data": {
      "text/plain": [
       "(900,)"
      ]
     },
     "execution_count": 7,
     "metadata": {},
     "output_type": "execute_result"
    }
   ],
   "source": [
    "unn.Xin_std.shape"
   ]
  },
  {
   "cell_type": "code",
   "execution_count": 10,
   "metadata": {},
   "outputs": [
    {
     "data": {
      "image/png": "[encoded data removed]",
      "text/plain": [
       "<Figure size 432x288 with 1 Axes>"
      ]
     },
     "metadata": {
      "needs_background": "light"
     },
     "output_type": "display_data"
    }
   ],
   "source": [
    "RP=Plot()\n",
    "SIR_NN=RP.sinr_av(SNR,unn.Network(xin),Nap,Nuser)\n",
    "# SIR_frac=RP.sinr_av(SNR,tf.math.log(p_frac),Nap,Nuser)\n",
    "plot=Plot()\n",
    "sir_vec=[SIR_NN.numpy()]\n",
    "plot.cdfplot(sir_vec)\n"
   ]
  },
  {
   "cell_type": "code",
   "execution_count": 6,
   "metadata": {},
   "outputs": [
    {
     "data": {
      "text/plain": [
       "50"
      ]
     },
     "execution_count": 6,
     "metadata": {},
     "output_type": "execute_result"
    }
   ],
   "source": []
  },
  {
   "cell_type": "code",
   "execution_count": null,
   "metadata": {},
   "outputs": [],
   "source": []
  }
 ],
 "metadata": {
  "kernelspec": {
   "display_name": "Python 3",
   "language": "python",
   "name": "python3"
  },
  "language_info": {
   "codemirror_mode": {
    "name": "ipython",
    "version": 3
   },
   "file_extension": ".py",
   "mimetype": "text/x-python",
   "name": "python",
   "nbconvert_exporter": "python",
   "pygments_lexer": "ipython3",
   "version": "3.8.3"
  }
 },
 "nbformat": 4,
 "nbformat_minor": 4
}
